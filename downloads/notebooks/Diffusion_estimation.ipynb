{
 "metadata": {
  "name": ""
 },
 "nbformat": 3,
 "nbformat_minor": 0,
 "worksheets": [
  {
   "cells": [
    {
     "cell_type": "markdown",
     "metadata": {},
     "source": [
      "Set up the environment."
     ]
    },
    {
     "cell_type": "code",
     "collapsed": false,
     "input": [
      "from math import exp, log\n",
      "import numpy as np\n",
      "import pandas as ps\n",
      "import matplotlib.pylab as plt\n",
      "from scipy.optimize import minimize"
     ],
     "language": "python",
     "metadata": {},
     "outputs": [],
     "prompt_number": 1
    },
    {
     "cell_type": "markdown",
     "metadata": {},
     "source": [
      "Printing options for nicer output."
     ]
    },
    {
     "cell_type": "code",
     "collapsed": false,
     "input": [
      "mpl.rcParams.update({'font.size': 10})\n",
      "np.set_printoptions(precision = 3, suppress = True)\n",
      "ps.set_option('float_format', '{:8.3f}'.format)"
     ],
     "language": "python",
     "metadata": {},
     "outputs": [],
     "prompt_number": 2
    },
    {
     "cell_type": "heading",
     "level": 1,
     "metadata": {},
     "source": [
      "Generic class for diffusion models"
     ]
    },
    {
     "cell_type": "markdown",
     "metadata": {},
     "source": [
      "Here we will define a generic class which later will be inherited by more specific model classes. Here we only define functions that will be common for all models. First of all we initialize it as having a single property 'paths' which is set to None."
     ]
    },
    {
     "cell_type": "code",
     "collapsed": false,
     "input": [
      "class Model(object):\n",
      "    \n",
      "    def __init__(self):\n",
      "        self.paths = None\n",
      "        self.eps = None"
     ],
     "language": "python",
     "metadata": {},
     "outputs": [],
     "prompt_number": 3
    },
    {
     "cell_type": "markdown",
     "metadata": {},
     "source": [
      "Next we define the function that will simulate discrete time paths of a selected diffusion model given parameters, length of paths, and number of simulations. Here we generate paths according to simple Euler discretization scheme.\n",
      "\n",
      "Given the generic continuous-time diffusion model\n",
      "<p>\n",
      "\\begin{equation}\n",
      "dY_{t}=\\mu\\left(Y_{t},\\theta_{0}\\right)dt+\\sigma\\left(Y_{t},\\theta_{0}\\right)dW_{t},\n",
      "\\end{equation}\n",
      "\n",
      "we can discretize it as\n",
      "<p>\n",
      "$$\n",
      "Y_{t}\\approx Y_t+\\mu\\left(Y_{t-h},\\theta_{0}\\right)h+\\sigma\\left(Y_{t-h},\\theta_{0}\\right)\\sqrt{h}\\epsilon_{t}.\n",
      "$$\n",
      "\n",
      "Hence, define helper functions that convert drift and diffusion functions into approximate location and scale."
     ]
    },
    {
     "cell_type": "code",
     "collapsed": false,
     "input": [
      "def euler_loc(self, x, theta):\n",
      "    return self.drift(x, theta) * self.h\n",
      "\n",
      "def euler_scale(self, x, theta):\n",
      "    return self.diff(x, theta) * self.h ** .5\n",
      "\n",
      "Model.euler_loc = euler_loc\n",
      "Model.euler_scale = euler_scale"
     ],
     "language": "python",
     "metadata": {},
     "outputs": [],
     "prompt_number": 4
    },
    {
     "cell_type": "markdown",
     "metadata": {},
     "source": [
      "Here is the method to simulate the data according to Euler discretization scheme."
     ]
    },
    {
     "cell_type": "code",
     "collapsed": false,
     "input": [
      "def simulate(self, x0, theta, h, M, N, S):\n",
      "    self.h = h\n",
      "    self.N = N\n",
      "    size = (N * M, S)\n",
      "    e = np.random.normal(size = size, scale = h ** .5)\n",
      "    x = np.ones(size) * x0\n",
      "    for n in xrange(N*M-1):\n",
      "        x[n+1] = x[n] + self.euler_loc(x[n], theta) / M + self.euler_scale(x[n], theta) / M ** .5 * e[n]\n",
      "    x = x[::M]    \n",
      "    if S > 1:\n",
      "        self.paths = x\n",
      "    else:\n",
      "        self.paths = x.flatten()\n",
      "        \n",
      "Model.simulate = simulate"
     ],
     "language": "python",
     "metadata": {},
     "outputs": [],
     "prompt_number": 5
    },
    {
     "cell_type": "markdown",
     "metadata": {},
     "source": [
      "Next we want to plot some trajectories. Only a few, hence the argument."
     ]
    },
    {
     "cell_type": "code",
     "collapsed": false,
     "input": [
      "def plot_trajectories(self, num):\n",
      "    if self.paths is None:\n",
      "        print 'Simulate data first!'\n",
      "    else:\n",
      "        x = np.arange(0, self.h * self.N, self.h)\n",
      "        plt.plot(x, self.paths[:,:num])\n",
      "        plt.xlabel('$t$')\n",
      "        plt.ylabel('$x_t$')\n",
      "        plt.show()\n",
      "\n",
      "Model.plot_trajectories = plot_trajectories"
     ],
     "language": "python",
     "metadata": {},
     "outputs": [],
     "prompt_number": 6
    },
    {
     "cell_type": "markdown",
     "metadata": {},
     "source": [
      "Again, only out of curiosity we want to plot the empirical distribution of the final value across all simulated trajectories."
     ]
    },
    {
     "cell_type": "code",
     "collapsed": false,
     "input": [
      "def plot_final_distr(self):\n",
      "    from scipy.stats.kde import gaussian_kde\n",
      "    if self.paths is None:\n",
      "        print 'Simulate data first!'\n",
      "    else:\n",
      "        data = self.paths[-1]\n",
      "        density = gaussian_kde(data)\n",
      "        x = np.linspace(data.min(), data.max(), 1e2)\n",
      "        plt.plot(x, density(x))\n",
      "        plt.xlabel('x')\n",
      "        plt.ylabel('f')\n",
      "        plt.show()\n",
      "        \n",
      "Model.plot_final_distr = plot_final_distr"
     ],
     "language": "python",
     "metadata": {},
     "outputs": [],
     "prompt_number": 7
    },
    {
     "cell_type": "markdown",
     "metadata": {},
     "source": [
      "Now we start adding methods for estimation. First, we add generic quasi-likelihood function. Depending on the 'scheme' argument, there are two versions of the likelihood available.\n",
      "\n",
      "One version takes Euler approximation as is.\n",
      "\n",
      "The second takes exact discretization (analytic first and second moments) and uses it to compute Normal likelihood."
     ]
    },
    {
     "cell_type": "code",
     "collapsed": false,
     "input": [
      "def quasi_likelihood(self, theta, x, scheme):\n",
      "    from scipy.stats import norm\n",
      "    loc = {'euler' : self.euler_loc, 'exact' : self.exact_loc}\n",
      "    scale = {'euler' : self.euler_scale, 'exact' : self.exact_scale}\n",
      "    m = loc[scheme](x[:-1], theta)\n",
      "    s = scale[scheme](x[:-1], theta)\n",
      "    return - norm.logpdf(x[1:] - x[:-1], loc = m, scale = s).mean()\n",
      "\n",
      "Model.quasi_likelihood = quasi_likelihood"
     ],
     "language": "python",
     "metadata": {},
     "outputs": [],
     "prompt_number": 8
    },
    {
     "cell_type": "markdown",
     "metadata": {},
     "source": [
      "It turns out that the GMM methods is common for all models considered here. So we define it for the 'Model' class.\n",
      "\n",
      "The function uses only two exact moments, mean and variance as conditional moment restrictions. The first method defines the moment restrictions."
     ]
    },
    {
     "cell_type": "code",
     "collapsed": false,
     "input": [
      "def moment(self, theta, x):\n",
      "    loc = self.exact_loc(x[:-1], theta)\n",
      "    scale = self.exact_scale(x[:-1], theta)\n",
      "    X1 = x[1:] - x[:-1] - loc\n",
      "    X2 = (x[1:] - x[:-1]) ** 2 - loc ** 2 - scale ** 2\n",
      "    X = np.vstack([X1, X2])\n",
      "    Z = np.vstack([np.ones_like(x[:-1]), x[:-1]])\n",
      "    new_shape = (X.shape[0] * Z.shape[0], X.shape[1])\n",
      "    g = np.mat(np.reshape(X[:,np.newaxis,:] * Z[np.newaxis,:,:], new_shape))\n",
      "    return g\n",
      "\n",
      "Model.moment = moment"
     ],
     "language": "python",
     "metadata": {},
     "outputs": [],
     "prompt_number": 9
    },
    {
     "cell_type": "markdown",
     "metadata": {},
     "source": [
      "The second method defines GMM objective function."
     ]
    },
    {
     "cell_type": "code",
     "collapsed": false,
     "input": [
      "def gmm_objective(self, theta, x):\n",
      "    from numpy.linalg import inv\n",
      "    g = self.moment(theta, x)\n",
      "    W = inv(g * g.T)\n",
      "    gT = g.mean(1)\n",
      "    J = gT.T * W * gT\n",
      "    return float(J)\n",
      "\n",
      "Model.gmm_objective = gmm_objective"
     ],
     "language": "python",
     "metadata": {},
     "outputs": [],
     "prompt_number": 10
    },
    {
     "cell_type": "markdown",
     "metadata": {},
     "source": [
      "Another useful method for estimation, especially of multivariate diffusions with no known density or simple moments, is the Simulated Maximum Likelihood (SML). Below is the likelihood function itself."
     ]
    },
    {
     "cell_type": "code",
     "collapsed": false,
     "input": [
      "def sml_likelihood(self, theta, x, M, S):\n",
      "    from scipy.stats import norm\n",
      "    # M: number of subintervals\n",
      "    # S: number of simulations\n",
      "    size = (M-1, S, self.N-1)\n",
      "    \n",
      "    # Generate random normal variables only in case if they don't exist\n",
      "    if self.eps is None or np.shape(self.eps) != size:\n",
      "        self.eps = np.random.normal(size = size)\n",
      "    \n",
      "    def sim(z, e):\n",
      "        return z + self.euler_loc(z, theta) / M + self.euler_scale(z, theta) / M ** .5 * e\n",
      "    z = reduce(sim, self.eps, x[:-1])\n",
      "    \n",
      "    loc = z + self.euler_loc(z, theta) / M\n",
      "    scale = self.euler_scale(z, theta) / M ** .5\n",
      "    pdf = norm.pdf(x[1:], loc = loc, scale = scale).mean(0)\n",
      "    \n",
      "    return -np.log(pdf).mean()\n",
      "\n",
      "Model.sml_likelihood = sml_likelihood"
     ],
     "language": "python",
     "metadata": {},
     "outputs": [],
     "prompt_number": 11
    },
    {
     "cell_type": "markdown",
     "metadata": {},
     "source": [
      "Next we define three methods responsible for finding the minimum of respective objective functions. Eventually, we will define QMLE, MLE, and GMM estimators, hence three methods."
     ]
    },
    {
     "cell_type": "code",
     "collapsed": false,
     "input": [
      "def estimate_qmle(self, x, theta0, scheme):\n",
      "    res = minimize(self.quasi_likelihood, theta0, args = (x, scheme),\n",
      "                   method = 'Nelder-Mead', options = {'disp': False})\n",
      "    return res.x\n",
      "\n",
      "def estimate_mle(self, x, theta0):\n",
      "    res = minimize(self.exact_likelihood, theta0, args = (x,),\n",
      "                   method = 'Nelder-Mead', options = {'disp': False})\n",
      "    return res.x\n",
      "\n",
      "def estimate_gmm(self, x, theta0):\n",
      "    res = minimize(self.gmm_objective, theta0, args = (x,),\n",
      "                   method = 'Nelder-Mead', options = {'disp': False})\n",
      "    return res.x\n",
      "\n",
      "def estimate_sml(self, x, theta0, M, S):\n",
      "    res = minimize(self.sml_likelihood, theta0, args = (x, M, S),\n",
      "                   method = 'Nelder-Mead', options = {'disp': False})\n",
      "    return res.x\n",
      "\n",
      "Model.estimate_qmle = estimate_qmle\n",
      "Model.estimate_mle = estimate_mle\n",
      "Model.estimate_gmm = estimate_gmm\n",
      "Model.estimate_sml = estimate_sml"
     ],
     "language": "python",
     "metadata": {},
     "outputs": [],
     "prompt_number": 12
    },
    {
     "cell_type": "heading",
     "level": 1,
     "metadata": {},
     "source": [
      "Geometric Brownian motion model"
     ]
    },
    {
     "cell_type": "markdown",
     "metadata": {},
     "source": [
      "GBM model is normally used as a the most simple example of continuous-time model for the stock price.\n",
      "<p>\n",
      "$$\n",
      "\\frac{dS_{t}}{S_{t}}=\\mu dt+\\sigma dW_{t}.\n",
      "$$\n",
      "<p>\n",
      "$$\n",
      "d\\log S_{t}=\\left(\\mu-\\frac{1}{2}\\sigma^{2}\\right)dt+\\sigma dW_{t}.\n",
      "$$\n",
      "<p>\n",
      "$$\n",
      "r_{t,h}=\\log\\frac{S_{t+h}}{S_{t}}=\\left(\\mu-\\frac{1}{2}\\sigma^{2}\\right)h+\\sigma\\sqrt{h}\\varepsilon_{t+h}.\n",
      "$$"
     ]
    },
    {
     "cell_type": "markdown",
     "metadata": {},
     "source": [
      "We create a new 'GBM' class which inherits all properties of a generic 'Model' class. For GBM process we only need two parameters, $\\mu$, and $\\sigma$."
     ]
    },
    {
     "cell_type": "code",
     "collapsed": false,
     "input": [
      "class GBM(Model):\n",
      "    \n",
      "    def __init__(self):\n",
      "        #super(Model, self).__init__()\n",
      "        Model.__init__(self)\n",
      "        self.names = ['mu','sigma']"
     ],
     "language": "python",
     "metadata": {},
     "outputs": [],
     "prompt_number": 13
    },
    {
     "cell_type": "markdown",
     "metadata": {},
     "source": [
      "We chracterize the GBM class by defining the drift and diffusion functions."
     ]
    },
    {
     "cell_type": "code",
     "collapsed": false,
     "input": [
      "def drift(self, x, theta):\n",
      "    mu, sigma = theta\n",
      "    return mu - .5 * sigma ** 2\n",
      "\n",
      "def diff(self, x, theta):\n",
      "    mu, sigma = theta\n",
      "    return sigma\n",
      "\n",
      "GBM.drift = drift\n",
      "GBM.diff = diff"
     ],
     "language": "python",
     "metadata": {},
     "outputs": [],
     "prompt_number": 14
    },
    {
     "cell_type": "markdown",
     "metadata": {},
     "source": [
      "In this simple model the exact discretization coincides with Euler scheme."
     ]
    },
    {
     "cell_type": "code",
     "collapsed": false,
     "input": [
      "def exact_loc(self, x, theta):\n",
      "    return self.euler_loc(x, theta)\n",
      "\n",
      "def exact_scale(self, x, theta):\n",
      "    return self.euler_scale(x, theta)\n",
      "\n",
      "GBM.exact_loc = exact_loc\n",
      "GBM.exact_scale = exact_scale"
     ],
     "language": "python",
     "metadata": {},
     "outputs": [],
     "prompt_number": 15
    },
    {
     "cell_type": "markdown",
     "metadata": {},
     "source": [
      "At this point we can initialize a model object using the class GBM."
     ]
    },
    {
     "cell_type": "code",
     "collapsed": false,
     "input": [
      "mu, sigma = .05, .1\n",
      "theta_true = np.array([mu, sigma])\n",
      "gbm = GBM()"
     ],
     "language": "python",
     "metadata": {},
     "outputs": [],
     "prompt_number": 16
    },
    {
     "cell_type": "markdown",
     "metadata": {},
     "source": [
      "Choosing the initial value, length of the time interval, length of the interval for simulation, and number of paths, we simulate the data using a single method which stores the paths in the object."
     ]
    },
    {
     "cell_type": "code",
     "collapsed": false,
     "input": [
      "x0, T, h, M, S = mu, 200, 1., 100, 3\n",
      "N = int(float(T) / h)\n",
      "gbm.simulate(x0, theta_true, h, M, N, S)"
     ],
     "language": "python",
     "metadata": {},
     "outputs": [],
     "prompt_number": 17
    },
    {
     "cell_type": "markdown",
     "metadata": {},
     "source": [
      "Calling another method creates a simple plot."
     ]
    },
    {
     "cell_type": "code",
     "collapsed": false,
     "input": [
      "gbm.plot_trajectories(3)"
     ],
     "language": "python",
     "metadata": {},
     "outputs": [
      {
       "metadata": {},
       "output_type": "display_data",
       "png": "[encoded data removed]",
       "text": [
        "<matplotlib.figure.Figure at 0x33b6a90>"
       ]
      }
     ],
     "prompt_number": 18
    },
    {
     "cell_type": "markdown",
     "metadata": {},
     "source": [
      "Use the first path for furtehr estimation."
     ]
    },
    {
     "cell_type": "code",
     "collapsed": false,
     "input": [
      "logS = gbm.paths[:,0]"
     ],
     "language": "python",
     "metadata": {},
     "outputs": [],
     "prompt_number": 19
    },
    {
     "cell_type": "heading",
     "level": 3,
     "metadata": {},
     "source": [
      "OLS estimation"
     ]
    },
    {
     "cell_type": "markdown",
     "metadata": {},
     "source": [
      "OLS estimation method is different for all models considered in this document. Here is the one for GBM."
     ]
    },
    {
     "cell_type": "code",
     "collapsed": false,
     "input": [
      "def estimate_ols(self, x):\n",
      "    import statsmodels.api as sm\n",
      "    Y = x[1:] - x[:-1]\n",
      "    X = np.ones(x.shape[0] - 1) * self.h\n",
      "    results = sm.OLS(Y, X).fit()\n",
      "    sigma = (results.mse_resid / h) ** .5\n",
      "    mu = results.params[0] + .5 * sigma **2\n",
      "    return np.array([mu, sigma])\n",
      "\n",
      "GBM.estimate_ols = estimate_ols"
     ],
     "language": "python",
     "metadata": {},
     "outputs": [],
     "prompt_number": 20
    },
    {
     "cell_type": "markdown",
     "metadata": {},
     "source": [
      "Let's try it. Should be close to the truth."
     ]
    },
    {
     "cell_type": "code",
     "collapsed": false,
     "input": [
      "%time theta_ols = gbm.estimate_ols(logS)\n",
      "print theta_ols"
     ],
     "language": "python",
     "metadata": {},
     "outputs": [
      {
       "output_type": "stream",
       "stream": "stdout",
       "text": [
        "CPU times: user 329 ms, sys: 24.8 ms, total: 354 ms\n",
        "Wall time: 334 ms\n",
        "[ 0.044  0.097]\n"
       ]
      }
     ],
     "prompt_number": 21
    },
    {
     "cell_type": "heading",
     "level": 3,
     "metadata": {},
     "source": [
      "Maximum Likelihood estimation"
     ]
    },
    {
     "cell_type": "markdown",
     "metadata": {},
     "source": [
      "Here we define two likelihood functions. It turns out that for this simplistic model, all of the likelihoods coincide. The true distribution is normal and two discretizations coincide."
     ]
    },
    {
     "cell_type": "code",
     "collapsed": false,
     "input": [
      "def quasi_likelihood(self, theta, x, scheme):\n",
      "    return super(GBM, self).quasi_likelihood(theta, x, scheme)\n",
      "\n",
      "def exact_likelihood(self, theta, x):\n",
      "    return self.quasi_likelihood(theta, x, 'exact')\n",
      "\n",
      "GBM.quasi_likelihood = quasi_likelihood\n",
      "GBM.exact_likelihood = exact_likelihood"
     ],
     "language": "python",
     "metadata": {},
     "outputs": [],
     "prompt_number": 22
    },
    {
     "cell_type": "markdown",
     "metadata": {},
     "source": [
      "Let's try all three estimators. Note that estimation method is inherited from the parent 'Model' class."
     ]
    },
    {
     "cell_type": "code",
     "collapsed": false,
     "input": [
      "%time theta_qmle_euler = gbm.estimate_qmle(logS, theta_ols, 'euler')\n",
      "%time theta_qmle_exact = gbm.estimate_qmle(logS, theta_ols, 'exact')\n",
      "%time theta_mle = gbm.estimate_mle(logS, theta_ols)\n",
      "%time theta_sml = gbm.estimate_sml(logS, theta_ols, 10, 100)\n",
      "\n",
      "print theta_qmle_euler\n",
      "print theta_qmle_exact\n",
      "print theta_mle\n",
      "print theta_sml"
     ],
     "language": "python",
     "metadata": {},
     "outputs": [
      {
       "output_type": "stream",
       "stream": "stdout",
       "text": [
        "CPU times: user 14 ms, sys: 129 \u00b5s, total: 14.1 ms\n",
        "Wall time: 13 ms\n",
        "CPU times: user 10.4 ms, sys: 11 \u00b5s, total: 10.4 ms\n",
        "Wall time: 10.6 ms\n",
        "CPU times: user 10.5 ms, sys: 14 \u00b5s, total: 10.6 ms\n",
        "Wall time: 10.7 ms\n",
        "CPU times: user 228 ms, sys: 0 ns, total: 228 ms"
       ]
      },
      {
       "output_type": "stream",
       "stream": "stdout",
       "text": [
        "\n",
        "Wall time: 230 ms\n",
        "[ 0.044  0.097]\n",
        "[ 0.044  0.097]\n",
        "[ 0.044  0.097]\n",
        "[ 0.051  0.1  ]\n"
       ]
      }
     ],
     "prompt_number": 23
    },
    {
     "cell_type": "markdown",
     "metadata": {},
     "source": [
      "To finish off with GBM estimation we use some pandas goodness to show our results in one nice table."
     ]
    },
    {
     "cell_type": "code",
     "collapsed": false,
     "input": [
      "data = [theta_true, theta_ols, theta_qmle_euler, theta_qmle_exact, theta_mle, theta_sml]\n",
      "index = ['True', 'OLS', 'QMLE euler', 'QMLE exact', 'MLE', 'SML']\n",
      "cols = ['mu','sigma']\n",
      "\n",
      "df = ps.DataFrame(data, index = index, columns = cols)\n",
      "df['logL'] = df.apply(lambda x: - gbm.exact_likelihood(x, logS), axis = 1)\n",
      "\n",
      "print df"
     ],
     "language": "python",
     "metadata": {},
     "outputs": [
      {
       "output_type": "stream",
       "stream": "stdout",
       "text": [
        "                 mu    sigma     logL\n",
        "True          0.050    0.100    0.911\n",
        "OLS           0.044    0.097    0.913\n",
        "QMLE euler    0.044    0.097    0.913\n",
        "QMLE exact    0.044    0.097    0.913\n",
        "MLE           0.044    0.097    0.913\n",
        "SML           0.051    0.100    0.910\n",
        "\n",
        "[6 rows x 3 columns]\n"
       ]
      }
     ],
     "prompt_number": 24
    },
    {
     "cell_type": "heading",
     "level": 1,
     "metadata": {},
     "source": [
      "Vasicek model"
     ]
    },
    {
     "cell_type": "markdown",
     "metadata": {},
     "source": [
      "\\begin{equation}\n",
      "dr_{t}=\\kappa\\left(\\mu-r_{t}\\right)dt+\\sigma dW_{t}.\n",
      "\\end{equation}\n",
      "\n",
      "This model has three parameters, hence the new class is slightly different."
     ]
    },
    {
     "cell_type": "code",
     "collapsed": false,
     "input": [
      "class Vasicek(Model):\n",
      "    \n",
      "    def __init__(self):\n",
      "        #super(Model, self).__init__()\n",
      "        Model.__init__(self)\n",
      "        self.names = ['kappa','mu','sigma']\n",
      "        \n",
      "    def drift(self, x, theta):\n",
      "        kappa, mu, sigma = theta\n",
      "        return kappa * (mu - x)\n",
      "    \n",
      "    def diff(self, x, theta):\n",
      "        kappa, mu, sigma = theta\n",
      "        return sigma"
     ],
     "language": "python",
     "metadata": {},
     "outputs": [],
     "prompt_number": 25
    },
    {
     "cell_type": "markdown",
     "metadata": {},
     "source": [
      "Exact discretization is based on two conditional moments:\n",
      "<p>\n",
      "$$\n",
      "E_{t}\\left[r_{t+h}\\right]\t=\tr_{t}e^{-\\kappa h}+\\mu\\left(1-e^{-\\kappa h}\\right),\\\\\n",
      "V_{t}\\left[r_{t+h}\\right]\t=\t\\frac{\\sigma^{2}}{2\\kappa}\\left(1-e^{-2\\kappa h}\\right).$$\n",
      "\n",
      "Note that the likelihood function is evaluated at the difference between two consequtive values, $x_{t+h}-x_t$."
     ]
    },
    {
     "cell_type": "code",
     "collapsed": false,
     "input": [
      "def exact_loc(self, x, theta):\n",
      "    kappa, mu, sigma = theta\n",
      "    e = exp( - kappa * self.h )\n",
      "    return (mu - x) * (1 - e)\n",
      "\n",
      "def exact_scale(self, x, theta):\n",
      "    kappa, mu, sigma = theta\n",
      "    e = exp( - 2 * kappa * self.h )\n",
      "    return ( (1 - e) * sigma ** 2 / (2 * kappa) ) ** .5\n",
      "\n",
      "Vasicek.exact_loc = exact_loc\n",
      "Vasicek.exact_scale = exact_scale"
     ],
     "language": "python",
     "metadata": {},
     "outputs": [],
     "prompt_number": 26
    },
    {
     "cell_type": "markdown",
     "metadata": {},
     "source": [
      "Now we can create the Vasicek model object, simulate somepaths, and plot them."
     ]
    },
    {
     "cell_type": "code",
     "collapsed": false,
     "input": [
      "kappa, mu, sigma = 1.5, .5, .1\n",
      "theta_true = np.array([kappa, mu, sigma])\n",
      "x0, T, h, M, S = mu, 200, 1., 100, 1e3\n",
      "N = int(float(T) / h)\n",
      "\n",
      "vasicek = Vasicek()\n",
      "vasicek.simulate(x0, theta_true, h, M, N, S)"
     ],
     "language": "python",
     "metadata": {},
     "outputs": [],
     "prompt_number": 27
    },
    {
     "cell_type": "markdown",
     "metadata": {},
     "source": [
      "Plot a few."
     ]
    },
    {
     "cell_type": "code",
     "collapsed": false,
     "input": [
      "vasicek.plot_trajectories(3)"
     ],
     "language": "python",
     "metadata": {},
     "outputs": [
      {
       "metadata": {},
       "output_type": "display_data",
       "png": "[encoded data removed]",
       "text": [
        "<matplotlib.figure.Figure at 0x356f710>"
       ]
      }
     ],
     "prompt_number": 28
    },
    {
     "cell_type": "code",
     "collapsed": false,
     "input": [
      "vasicek.plot_final_distr()"
     ],
     "language": "python",
     "metadata": {},
     "outputs": [
      {
       "metadata": {},
       "output_type": "display_data",
       "png": "[encoded data removed]",
       "text": [
        "<matplotlib.figure.Figure at 0x4041290>"
       ]
      }
     ],
     "prompt_number": 29
    },
    {
     "cell_type": "markdown",
     "metadata": {},
     "source": [
      "For further estimation we will take only the first path out of all simulated."
     ]
    },
    {
     "cell_type": "code",
     "collapsed": false,
     "input": [
      "r = vasicek.paths[:,0]"
     ],
     "language": "python",
     "metadata": {},
     "outputs": [],
     "prompt_number": 30
    },
    {
     "cell_type": "heading",
     "level": 3,
     "metadata": {},
     "source": [
      "OLS estimation"
     ]
    },
    {
     "cell_type": "markdown",
     "metadata": {},
     "source": [
      "Given the differences in Euler and exact discretization, we can define two corresponding methods for estimation of structural parameters."
     ]
    },
    {
     "cell_type": "code",
     "collapsed": false,
     "input": [
      "def estimate_ols_euler(self, x):\n",
      "    import statsmodels.api as sm\n",
      "    Y, X = x[1:], x[:-1]\n",
      "    X = sm.add_constant(X)    \n",
      "    results = sm.OLS(Y, X).fit()\n",
      "    kappa = (1 - results.params[1]) / self.h\n",
      "    mu = results.params[0] / kappa / self.h\n",
      "    sigma = (results.mse_resid / self.h) ** .5\n",
      "    return np.array([kappa, mu, sigma])\n",
      "\n",
      "def estimate_ols_exact(self, x):\n",
      "    import statsmodels.api as sm\n",
      "    Y, X = x[1:], x[:-1]\n",
      "    X = sm.add_constant(X)\n",
      "    results = sm.OLS(Y, X).fit()\n",
      "    kappa = - log(results.params[1]) / self.h\n",
      "    mu = results.params[0] / (1 - results.params[1])\n",
      "    sigma = (2 * kappa * results.mse_resid / (1 - results.params[1] ** 2)) ** .5\n",
      "    return np.array([kappa, mu, sigma])\n",
      "\n",
      "Vasicek.estimate_ols_euler = estimate_ols_euler\n",
      "Vasicek.estimate_ols_exact = estimate_ols_exact"
     ],
     "language": "python",
     "metadata": {},
     "outputs": [],
     "prompt_number": 31
    },
    {
     "cell_type": "markdown",
     "metadata": {},
     "source": [
      "Let's try both."
     ]
    },
    {
     "cell_type": "code",
     "collapsed": false,
     "input": [
      "%time theta_ols_euler = vasicek.estimate_ols_euler(r)\n",
      "%time theta_ols_exact = vasicek.estimate_ols_exact(r)\n",
      "\n",
      "print theta_ols_euler\n",
      "print theta_ols_exact"
     ],
     "language": "python",
     "metadata": {},
     "outputs": [
      {
       "output_type": "stream",
       "stream": "stdout",
       "text": [
        "CPU times: user 3.71 ms, sys: 0 ns, total: 3.71 ms\n",
        "Wall time: 2.97 ms\n",
        "CPU times: user 1.84 ms, sys: 0 ns, total: 1.84 ms\n",
        "Wall time: 1.73 ms\n",
        "[ 0.719  0.496  0.057]\n",
        "[ 1.271  0.496  0.095]\n"
       ]
      }
     ],
     "prompt_number": 32
    },
    {
     "cell_type": "heading",
     "level": 3,
     "metadata": {},
     "source": [
      "Maximum Likelihood estimation"
     ]
    },
    {
     "cell_type": "markdown",
     "metadata": {},
     "source": [
      "The conditional distribution is still normal:\n",
      "<p>\n",
      "\\begin{equation}\n",
      "r_{t+h}|r_{t}\\sim N\\left(E_{t}\\left[r_{t+h}\\right],V_{t}\\left[r_{t+h}\\right]\\right).\n",
      "\\end{equation}\n",
      "\n",
      "So the likelihood functions are the same except for the number of parameters."
     ]
    },
    {
     "cell_type": "code",
     "collapsed": false,
     "input": [
      "def quasi_likelihood(self, theta, x, scheme):\n",
      "    return super(Vasicek, self).quasi_likelihood(theta, x, scheme)\n",
      "\n",
      "def exact_likelihood(self, theta, x):\n",
      "    return self.quasi_likelihood(theta, x, 'exact')\n",
      "\n",
      "Vasicek.quasi_likelihood = quasi_likelihood\n",
      "Vasicek.exact_likelihood = exact_likelihood"
     ],
     "language": "python",
     "metadata": {},
     "outputs": [],
     "prompt_number": 33
    },
    {
     "cell_type": "markdown",
     "metadata": {},
     "source": [
      "When we try all three, the last two should coincide."
     ]
    },
    {
     "cell_type": "code",
     "collapsed": false,
     "input": [
      "%time theta_qmle_euler = vasicek.estimate_qmle(r, theta_ols_exact, 'euler')\n",
      "%time theta_qmle_exact = vasicek.estimate_qmle(r, theta_ols_exact, 'exact')\n",
      "%time theta_mle = vasicek.estimate_mle(r, theta_ols_exact)\n",
      "%time theta_sml = vasicek.estimate_sml(r, theta_ols_exact, 10, 100)\n",
      "\n",
      "print theta_qmle_euler\n",
      "print theta_qmle_exact\n",
      "print theta_mle\n",
      "print theta_sml"
     ],
     "language": "python",
     "metadata": {},
     "outputs": [
      {
       "output_type": "stream",
       "stream": "stdout",
       "text": [
        "CPU times: user 65.6 ms, sys: 75 \u00b5s, total: 65.7 ms\n",
        "Wall time: 64.6 ms\n",
        "CPU times: user 41.2 ms, sys: 0 ns, total: 41.2 ms\n",
        "Wall time: 41.3 ms\n",
        "CPU times: user 39.6 ms, sys: 0 ns, total: 39.6 ms"
       ]
      },
      {
       "output_type": "stream",
       "stream": "stdout",
       "text": [
        "\n",
        "Wall time: 39.6 ms\n",
        "CPU times: user 809 ms, sys: 0 ns, total: 809 ms"
       ]
      },
      {
       "output_type": "stream",
       "stream": "stdout",
       "text": [
        "\n",
        "Wall time: 812 ms\n",
        "[ 0.719  0.496  0.057]\n",
        "[ 1.271  0.496  0.095]\n",
        "[ 1.271  0.496  0.095]\n",
        "[ 1.187  0.496  0.089]\n"
       ]
      }
     ],
     "prompt_number": 34
    },
    {
     "cell_type": "heading",
     "level": 3,
     "metadata": {},
     "source": [
      "GMM estimation"
     ]
    },
    {
     "cell_type": "markdown",
     "metadata": {},
     "source": [
      "Since the GMM estimator is common for all models, except for number of parameters and their names, we can already try it here."
     ]
    },
    {
     "cell_type": "code",
     "collapsed": false,
     "input": [
      "%time theta_gmm = vasicek.estimate_gmm(r, theta_ols_exact)\n",
      "\n",
      "print theta_gmm"
     ],
     "language": "python",
     "metadata": {},
     "outputs": [
      {
       "output_type": "stream",
       "stream": "stdout",
       "text": [
        "CPU times: user 41.7 ms, sys: 25 \u00b5s, total: 41.7 ms\n",
        "Wall time: 40.7 ms\n",
        "[ 1.344  0.496  0.097]\n"
       ]
      }
     ],
     "prompt_number": 35
    },
    {
     "cell_type": "heading",
     "level": 3,
     "metadata": {},
     "source": [
      "Comparison"
     ]
    },
    {
     "cell_type": "markdown",
     "metadata": {},
     "source": [
      "To simplify our work even more, we write the function that prints all estimation results, and exact-likelihood evaluated at each estimate. Next the models are ranked by log-likelihood."
     ]
    },
    {
     "cell_type": "code",
     "collapsed": false,
     "input": [
      "def compare_estimators(model, x, theta_true):\n",
      "    theta_ols_euler = model.estimate_ols_euler(x)\n",
      "    theta_ols_exact = model.estimate_ols_exact(x)\n",
      "    theta_qmle_euler = model.estimate_qmle(x, theta_ols_exact, 'euler')\n",
      "    theta_qmle_exact = model.estimate_qmle(x, theta_ols_exact, 'exact')\n",
      "    theta_mle = model.estimate_mle(x, theta_ols_exact)\n",
      "    theta_gmm = model.estimate_gmm(x, theta_ols_exact)\n",
      "    \n",
      "    data = [theta_true, theta_ols_euler, theta_ols_exact, theta_qmle_euler, theta_qmle_exact, theta_mle, theta_sml, theta_gmm]\n",
      "    index = ['True', 'OLS euler', 'OLS exact', 'QMLE euler', 'QMLE exact', 'MLE', 'SML', 'GMM']\n",
      "    df = ps.DataFrame(data, index = index, columns = model.names)\n",
      "    df['logL'] = df.apply(lambda y: - model.exact_likelihood(y, x), axis = 1)\n",
      "    df['Rank'] = df['logL'].rank(ascending = False).astype(int)\n",
      "    \n",
      "    print df"
     ],
     "language": "python",
     "metadata": {},
     "outputs": [],
     "prompt_number": 36
    },
    {
     "cell_type": "markdown",
     "metadata": {},
     "source": [
      "Try this function."
     ]
    },
    {
     "cell_type": "code",
     "collapsed": false,
     "input": [
      "compare_estimators(vasicek, r, theta_true)"
     ],
     "language": "python",
     "metadata": {},
     "outputs": [
      {
       "output_type": "stream",
       "stream": "stdout",
       "text": [
        "              kappa       mu    sigma     logL  Rank\n",
        "True          1.500    0.500    0.100    1.439     6\n",
        "OLS euler     0.719    0.496    0.057    1.278     7\n",
        "OLS exact     1.271    0.496    0.095    1.443     3\n",
        "QMLE euler    0.719    0.496    0.057    1.273     8\n",
        "QMLE exact    1.271    0.496    0.095    1.443     1\n",
        "MLE           1.271    0.496    0.095    1.443     1\n",
        "SML           1.187    0.496    0.089    1.441     5\n",
        "GMM           1.344    0.496    0.097    1.443     4\n",
        "\n",
        "[8 rows x 5 columns]\n"
       ]
      }
     ],
     "prompt_number": 37
    },
    {
     "cell_type": "heading",
     "level": 1,
     "metadata": {},
     "source": [
      "Cox-Ingersoll-Ross model"
     ]
    },
    {
     "cell_type": "markdown",
     "metadata": {},
     "source": [
      "$$\n",
      "dr_{t}=\\kappa\\left(\\mu-r_{t}\\right)dt+\\sigma\\sqrt{r_{t}}dW_{t}\n",
      "$$\n",
      "\n",
      "This model also has only three parameters. In the initial definition we add the method that checks the Feller condition on the positivity of the process, $2\\kappa\\mu>\\sigma^2$."
     ]
    },
    {
     "cell_type": "code",
     "collapsed": false,
     "input": [
      "class CIR(Model):\n",
      "    \n",
      "    def __init__(self):\n",
      "        Model.__init__(self)\n",
      "        #super(Model, self).__init__()\n",
      "        self.names = ['kappa','mu','sigma']\n",
      "    \n",
      "    def drift(self, x, theta):\n",
      "        kappa, mu, sigma = theta\n",
      "        return kappa * (mu - x)\n",
      "    \n",
      "    def diff(self, x, theta):\n",
      "        kappa, mu, sigma = theta\n",
      "        return sigma * x ** .5\n",
      "    \n",
      "    def is_valid(self, theta):\n",
      "        kappa, mu, sigma = theta\n",
      "        return 2 * kappa * mu - sigma ** 2 > 0"
     ],
     "language": "python",
     "metadata": {},
     "outputs": [],
     "prompt_number": 38
    },
    {
     "cell_type": "markdown",
     "metadata": {},
     "source": [
      "Exact discretization is based on two conditional moments:\n",
      "$$\n",
      "E_{t}\\left[r_{t+h}\\right]\t=\tr_{t}e^{-\\kappa h}+\\mu\\left(1-e^{-\\kappa h}\\right),\\\\\n",
      "V_{t}\\left[r_{t+h}\\right]\t=\t\\frac{\\sigma^{2}}{\\kappa}r_{t}e^{-\\kappa h}\\left(1-e^{-\\kappa h}\\right)+\\frac{\\sigma^{2}}{2\\kappa}\\left(1-e^{-\\kappa h}\\right)^{2}$$"
     ]
    },
    {
     "cell_type": "code",
     "collapsed": false,
     "input": [
      "def exact_loc(self, x, theta):\n",
      "    kappa, mu, sigma = theta\n",
      "    e = exp( - kappa * self.h )\n",
      "    return (mu - x) * (1 - e)\n",
      "\n",
      "def exact_scale(self, x, theta):\n",
      "    kappa, mu, sigma = theta\n",
      "    e = exp( - kappa * self.h )\n",
      "    return ( (x * e + (1 - e) / 2) * (1 - e) * sigma ** 2 / kappa ) ** .5\n",
      "\n",
      "CIR.exact_loc = exact_loc\n",
      "CIR.exact_scale = exact_scale"
     ],
     "language": "python",
     "metadata": {},
     "outputs": [],
     "prompt_number": 39
    },
    {
     "cell_type": "markdown",
     "metadata": {},
     "source": [
      "Lte's create the object and check that parameters are valid."
     ]
    },
    {
     "cell_type": "code",
     "collapsed": false,
     "input": [
      "kappa, mu, sigma = 1, .2, .2\n",
      "theta_true = np.array([kappa, mu, sigma])\n",
      "x0, T, h, M, S = mu, 200, 1., 100, 1e2\n",
      "N = int(float(T) / h)\n",
      "\n",
      "cir = CIR()\n",
      "cir.simulate(x0, theta_true, h, M, N, S)\n",
      "cir.is_valid(theta_true)"
     ],
     "language": "python",
     "metadata": {},
     "outputs": [
      {
       "metadata": {},
       "output_type": "pyout",
       "prompt_number": 40,
       "text": [
        "True"
       ]
      }
     ],
     "prompt_number": 40
    },
    {
     "cell_type": "markdown",
     "metadata": {},
     "source": [
      "Now simulate some paths, and plot a few."
     ]
    },
    {
     "cell_type": "code",
     "collapsed": false,
     "input": [
      "cir.plot_trajectories(3)"
     ],
     "language": "python",
     "metadata": {},
     "outputs": [
      {
       "metadata": {},
       "output_type": "display_data",
       "png": "[encoded data removed]",
       "text": [
        "<matplotlib.figure.Figure at 0x4049e90>"
       ]
      }
     ],
     "prompt_number": 41
    },
    {
     "cell_type": "code",
     "collapsed": false,
     "input": [
      "cir.plot_final_distr()"
     ],
     "language": "python",
     "metadata": {},
     "outputs": [
      {
       "metadata": {},
       "output_type": "display_data",
       "png": "[encoded data removed]",
       "text": [
        "<matplotlib.figure.Figure at 0x3f79250>"
       ]
      }
     ],
     "prompt_number": 42
    },
    {
     "cell_type": "markdown",
     "metadata": {},
     "source": [
      "For further estimation we will take only the first path out of all simulated."
     ]
    },
    {
     "cell_type": "code",
     "collapsed": false,
     "input": [
      "r = cir.paths[:,0]"
     ],
     "language": "python",
     "metadata": {},
     "outputs": [],
     "prompt_number": 43
    },
    {
     "cell_type": "heading",
     "level": 3,
     "metadata": {},
     "source": [
      "OLS estimation"
     ]
    },
    {
     "cell_type": "markdown",
     "metadata": {},
     "source": [
      "OLS estimation is very similar to Vasicek model"
     ]
    },
    {
     "cell_type": "code",
     "collapsed": false,
     "input": [
      "def estimate_ols_euler(self, x):\n",
      "    import statsmodels.api as sm\n",
      "    Y = (x[1:] - x[:-1]) / x[:-1] ** .5\n",
      "    X1 = self.h / x[:-1] ** .5\n",
      "    X2 = - self.h * x[:-1] ** .5\n",
      "    X = np.vstack([X1, X2]).T\n",
      "    results = sm.OLS(Y, X).fit()\n",
      "    kappa = results.params[1]\n",
      "    mu = results.params[0] / results.params[1]\n",
      "    sigma = (results.mse_resid / self.h) ** .5\n",
      "    return np.array([kappa, mu, sigma])\n",
      "\n",
      "def estimate_ols_exact(self, x):\n",
      "    import statsmodels.api as sm\n",
      "    Y, X = x[1:], x[:-1]\n",
      "    X = sm.add_constant(X)\n",
      "    results = sm.OLS(Y, X).fit()\n",
      "    kappa = - log(results.params[1]) / self.h\n",
      "    mu = results.params[0] / (1 - results.params[1])\n",
      "    Y = results.resid ** 2\n",
      "    results = sm.OLS(Y, X).fit()\n",
      "    sigma2 = kappa * results.params[1] / (1 - exp(- self.h * kappa)) / exp(- self.h * kappa)\n",
      "    return np.array([kappa, mu, sigma2 ** .5])\n",
      "\n",
      "CIR.estimate_ols_euler = estimate_ols_euler\n",
      "CIR.estimate_ols_exact = estimate_ols_exact"
     ],
     "language": "python",
     "metadata": {},
     "outputs": [],
     "prompt_number": 44
    },
    {
     "cell_type": "markdown",
     "metadata": {},
     "source": [
      "Let's try both."
     ]
    },
    {
     "cell_type": "code",
     "collapsed": false,
     "input": [
      "%time theta_ols_euler = cir.estimate_ols_euler(r)\n",
      "%time theta_ols_exact = cir.estimate_ols_exact(r)\n",
      "\n",
      "print theta_ols_euler\n",
      "print theta_ols_exact"
     ],
     "language": "python",
     "metadata": {},
     "outputs": [
      {
       "output_type": "stream",
       "stream": "stdout",
       "text": [
        "CPU times: user 2.59 ms, sys: 90 \u00b5s, total: 2.68 ms\n",
        "Wall time: 2.58 ms\n",
        "CPU times: user 3.53 ms, sys: 0 ns, total: 3.53 ms\n",
        "Wall time: 2.9 ms\n",
        "[ 0.631  0.194  0.142]\n",
        "[ 1.124  0.195  0.321]\n"
       ]
      }
     ],
     "prompt_number": 45
    },
    {
     "cell_type": "heading",
     "level": 3,
     "metadata": {},
     "source": [
      "Maximum Likelihood estimation"
     ]
    },
    {
     "cell_type": "markdown",
     "metadata": {},
     "source": [
      "The exact distribution is known to be\n",
      "$$\n",
      "f\\left(\\left.r_{t+h}\\right|r_{t};\\theta\\right)=ce^{-u-v}\\left(\\frac{u}{v}\\right)^{q/2}I_{q}\\left(2\\sqrt{uv}\\right),\n",
      "$$\n",
      "where\n",
      "$$\n",
      "c=\\frac{2\\kappa}{\\sigma^{2}\\left(1-e^{-\\kappa h}\\right)},\\quad u=cr_{t}e^{-\\kappa h},\\quad v=cr_{t+h},\\quad q=\\frac{2\\kappa\\mu}{\\sigma^{2}}-1,\n",
      "$$\n",
      "and $I_{q}$ is the modified Bessel function of the first kind of order $q$. Sometimes, it is useful to work with a transformation $x_{t+h}=2cr_{t+h}$. The transition density of $x_{t+h}$ is\n",
      "$$\n",
      "f\\left(\\left.x_{t+h}\\right|x_{t};\\theta\\right)=f\\left(\\left.2cr_{t+h}\\right|2cr_{t};\\theta\\right)=\\frac{1}{2c}f\\left(\\left.r_{t+h}\\right|r_{t};\\theta\\right),\n",
      "$$\n",
      "which is a noncentral $\\chi^{2}$ with $2q+2$ degrees of freedom and noncentrality parameter $2u$."
     ]
    },
    {
     "cell_type": "code",
     "collapsed": false,
     "input": [
      "def quasi_likelihood(self, theta, x, scheme):\n",
      "    return super(CIR, self).quasi_likelihood(theta, x, scheme)\n",
      "\n",
      "def exact_likelihood(self, theta, x):\n",
      "    from scipy.stats import ncx2\n",
      "    kappa, mu, sigma = theta\n",
      "    e = exp( - kappa * self.h )\n",
      "    c = 2 * kappa / sigma ** 2 / (1 - e)\n",
      "    q = 2 * kappa * mu / sigma ** 2 - 1\n",
      "    v = 2 * c * x[1:]\n",
      "    df = 2 * (q + 1)\n",
      "    nc = 2 * c * x[:-1] * e\n",
      "    l = ncx2.logpdf(v, df, nc) + log(2 * c)\n",
      "    return - l[np.isfinite(l)].mean()\n",
      "\n",
      "CIR.quasi_likelihood = quasi_likelihood\n",
      "CIR.exact_likelihood = exact_likelihood"
     ],
     "language": "python",
     "metadata": {},
     "outputs": [],
     "prompt_number": 46
    },
    {
     "cell_type": "markdown",
     "metadata": {},
     "source": [
      "Let's try them."
     ]
    },
    {
     "cell_type": "code",
     "collapsed": false,
     "input": [
      "%time theta_qmle_euler = cir.estimate_qmle(r, theta_ols_exact, 'euler')\n",
      "%time theta_qmle_exact = cir.estimate_qmle(r, theta_ols_exact, 'exact')\n",
      "%time theta_mle = cir.estimate_mle(r, theta_ols_exact)\n",
      "%time theta_sml = cir.estimate_sml(r, theta_ols_exact, 10, 100)\n",
      "\n",
      "print theta_qmle_euler\n",
      "print theta_qmle_exact\n",
      "print theta_mle\n",
      "print theta_sml"
     ],
     "language": "python",
     "metadata": {},
     "outputs": [
      {
       "output_type": "stream",
       "stream": "stdout",
       "text": [
        "CPU times: user 60.6 ms, sys: 24 \u00b5s, total: 60.6 ms\n",
        "Wall time: 59.5 ms\n",
        "CPU times: user 69.5 ms, sys: 56 \u00b5s, total: 69.5 ms"
       ]
      },
      {
       "output_type": "stream",
       "stream": "stdout",
       "text": [
        "\n",
        "Wall time: 69.6 ms\n",
        "CPU times: user 383 ms, sys: 0 ns, total: 383 ms"
       ]
      },
      {
       "output_type": "stream",
       "stream": "stdout",
       "text": [
        "\n",
        "Wall time: 383 ms\n",
        "CPU times: user 5.87 s, sys: 4.13 ms, total: 5.87 s"
       ]
      },
      {
       "output_type": "stream",
       "stream": "stdout",
       "text": [
        "\n",
        "Wall time: 5.87 s\n",
        "[ 0.631  0.194  0.141]\n",
        "[ 1.019  0.195  0.126]\n",
        "[ 1.139  0.195  0.223]\n",
        "[ 1.124  0.195  0.321]\n"
       ]
      }
     ],
     "prompt_number": 47
    },
    {
     "cell_type": "heading",
     "level": 3,
     "metadata": {},
     "source": [
      "GMM estimation"
     ]
    },
    {
     "cell_type": "markdown",
     "metadata": {},
     "source": [
      "Let's try it."
     ]
    },
    {
     "cell_type": "code",
     "collapsed": false,
     "input": [
      "%time theta_gmm = cir.estimate_gmm(r, theta_ols_exact)\n",
      "\n",
      "print theta_gmm"
     ],
     "language": "python",
     "metadata": {},
     "outputs": [
      {
       "output_type": "stream",
       "stream": "stdout",
       "text": [
        "CPU times: user 72.2 ms, sys: 3.91 ms, total: 76.1 ms\n",
        "Wall time: 75.2 ms\n",
        "[ 0.98   0.195  0.119]\n"
       ]
      }
     ],
     "prompt_number": 48
    },
    {
     "cell_type": "heading",
     "level": 3,
     "metadata": {},
     "source": [
      "Comparison"
     ]
    },
    {
     "cell_type": "code",
     "collapsed": false,
     "input": [
      "compare_estimators(cir, r, theta_true)"
     ],
     "language": "python",
     "metadata": {},
     "outputs": [
      {
       "output_type": "stream",
       "stream": "stdout",
       "text": [
        "              kappa       mu    sigma     logL  Rank\n",
        "True          1.000    0.200    0.200    1.393     2\n",
        "OLS euler     0.631    0.194    0.142    1.273     5\n",
        "OLS exact     1.124    0.195    0.321    1.288     3\n",
        "QMLE euler    0.631    0.194    0.141    1.269     6\n",
        "QMLE exact    1.019    0.195    0.126    0.973     7\n",
        "MLE           1.139    0.195    0.223    1.402     1\n",
        "SML           1.124    0.195    0.321    1.288     3\n",
        "GMM           0.980    0.195    0.119    0.874     8\n",
        "\n",
        "[8 rows x 5 columns]\n"
       ]
      }
     ],
     "prompt_number": 49
    },
    {
     "cell_type": "heading",
     "level": 2,
     "metadata": {},
     "source": [
      "True data"
     ]
    },
    {
     "cell_type": "markdown",
     "metadata": {},
     "source": [
      "Here we use Realized Volatility data available at http://realized.oxford-man.ox.ac.uk/media/1366/oxfordmanrealizedvolatilityindices.zip"
     ]
    },
    {
     "cell_type": "code",
     "collapsed": false,
     "input": [
      "import zipfile\n",
      "import StringIO\n",
      "import datetime as dt\n",
      "\n",
      "zf = zipfile.ZipFile('../../../../Research/data/OxfordMan/oxfordmanrealizedvolatilityindices.zip')\n",
      "name = zf.namelist()[0]\n",
      "data = StringIO.StringIO(zf.read(name))\n",
      "f = lambda x: dt.datetime.strptime(str(int(x)), '%Y%m%d')\n",
      "raw = ps.read_csv(data, skiprows = [0,1], converters = {'DateID' : f})\n",
      "raw = raw.rename(columns = {raw.columns[0] : 'date'}).set_index('date')\n",
      "RV = raw[['SPX2.rv']].dropna()\n",
      "print RV.tail()\n",
      "\n",
      "RV.plot()\n",
      "plt.show()\n",
      "\n",
      "RV = RV[:200]"
     ],
     "language": "python",
     "metadata": {},
     "outputs": [
      {
       "output_type": "stream",
       "stream": "stdout",
       "text": [
        "            SPX2.rv\n",
        "date               \n",
        "2014-02-14    0.000\n",
        "2014-02-18    0.000\n",
        "2014-02-19    0.000\n",
        "2014-02-20    0.000\n",
        "2014-02-21    0.000\n",
        "\n",
        "[5 rows x 1 columns]\n"
       ]
      },
      {
       "metadata": {},
       "output_type": "display_data",
       "png": "[encoded data removed]",
       "text": [
        "<matplotlib.figure.Figure at 0x403f5d0>"
       ]
      }
     ],
     "prompt_number": 50
    },
    {
     "cell_type": "code",
     "collapsed": false,
     "input": [
      "cir = CIR()\n",
      "cir.h, cir.N = 1., RV.shape[0]\n",
      "V = np.log( 1 + np.array(RV).flatten() * 25200 )\n",
      "\n",
      "theta_ols_euler = cir.estimate_ols_euler(V)\n",
      "theta_ols_exact = cir.estimate_ols_exact(V)\n",
      "theta_qmle_euler = cir.estimate_qmle(V, theta_ols_exact, 'euler')\n",
      "theta_qmle_exact = cir.estimate_qmle(V, theta_ols_exact, 'exact')\n",
      "theta_mle = cir.estimate_mle(V, theta_ols_exact)\n",
      "theta_sml = cir.estimate_sml(V, theta_ols_exact, 10, 100)\n",
      "theta_gmm = cir.estimate_gmm(V, theta_ols_exact)\n",
      "\n",
      "data = [theta_ols_euler, theta_ols_exact, theta_qmle_euler, theta_qmle_exact, theta_mle, theta_sml, theta_gmm]\n",
      "index = ['OLS euler', 'OLS exact', 'QMLE euler', 'QMLE exact', 'MLE', 'SML', 'GMM']\n",
      "cols = ['kappa','mu','sigma']\n",
      "df = ps.DataFrame(data, index = index, columns = cols)\n",
      "df['logL'] = df.apply(lambda x: - cir.exact_likelihood(x, V), axis = 1)\n",
      "\n",
      "print df"
     ],
     "language": "python",
     "metadata": {},
     "outputs": [
      {
       "output_type": "stream",
       "stream": "stdout",
       "text": [
        "              kappa       mu    sigma     logL\n",
        "OLS euler     0.303    1.398    0.368   -0.486\n",
        "OLS exact     0.493    1.395    0.442   -0.475\n",
        "QMLE euler    0.303    1.398    0.367   -0.487\n",
        "QMLE exact    0.364    1.405    0.444   -0.481\n",
        "MLE           0.427    1.397    0.420   -0.473\n",
        "SML           0.415    1.367    0.407   -0.474\n",
        "GMM           0.525    1.377    0.467   -0.480\n",
        "\n",
        "[7 rows x 4 columns]\n"
       ]
      }
     ],
     "prompt_number": 51
    }
   ],
   "metadata": {}
  }
 ]
}