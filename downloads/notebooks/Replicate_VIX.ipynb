{
 "metadata": {
  "name": ""
 },
 "nbformat": 3,
 "nbformat_minor": 0,
 "worksheets": [
  {
   "cells": [
    {
     "cell_type": "heading",
     "level": 2,
     "metadata": {},
     "source": [
      "Introduction"
     ]
    },
    {
     "cell_type": "markdown",
     "metadata": {},
     "source": [
      "This notebook shows how to reproduce the VIX given the data in CBOE White Paper (<a href='http://www.cboe.com/micro/vix/vixwhite.pdf'>http://www.cboe.com/micro/vix/vixwhite.pdf</a>). The code works for any option data set, not only one day as in the White Paper. The option data for this example is exactly the same as in the Appendix 1 of the White Paper."
     ]
    },
    {
     "cell_type": "markdown",
     "metadata": {},
     "source": [
      "Given are the prices $C_{i}$, $i\\in\\left\\{ 0,\\ldots,n\\right\\}$, of a series of European call options on the index with fixed maturity date $T$ and exercise prices $K_{i}$, $i\\in\\left\\{ 0,\\ldots,n\\right\\}$, as well as the prices $P_{i}$, $i\\in\\left\\{ 0,\\ldots,n\\right\\}$, of a series of European put options on the index with the same maturity date $T$ and exercise prices $K_{i}$. Let further hold $K_{i}<K_{i+1}$ for all $i\\in\\left\\{ 0,\\ldots,n-1\\right\\}$.\n",
      "\n",
      "The VIX itself is\n",
      "$$VIX=100\\cdot\\sqrt{V^{2}},$$\n",
      "where $V$ is explained below.\n",
      "\n",
      "Since there are days when there no options with precisely 30 days to expiration, we have to interpolate between near-term index and next-term index:\n",
      "$$V^{2}=\\left[T_{1}\\sigma_{1}^{2}\\left(\\frac{N_{T_{2}}-N_{30}}{N_{T_{2}}-N_{T_{1}}}\\right)+T_{2}\\sigma_{2}^{2}\\left(\\frac{N_{30}-N_{T_{1}}}{N_{T_{2}}-N_{T_{1}}}\\right)\\right]\\frac{365}{30}$$\n",
      "with each $\\sigma_{i}^{2}$ computed according to\n",
      "$$\\sigma^{2}=\\frac{2}{T}\\sum_{i=0}^{n}\\frac{\\Delta K_{i}}{K_{i}^{2}}e^{rT}M_{i}-\\frac{1}{T}\\left(\\frac{F}{K_{*}}-1\\right)^{2},$$\n",
      "where the distance between strikes is\n",
      "$$\\Delta K_{i}\t=\t\\begin{cases}\n",
      "K_{1}-K_{0}, & i=0\\\\\n",
      "\\frac{1}{2}\\left(K_{i+1}-K_{i-1}\\right), & i=1,\\ldots,n-1\\\\\n",
      "K_{n}-K_{n-1}, & i=n\n",
      "\\end{cases}$$\n",
      "the out-of-the-money option premium is\n",
      "$$M_{i}\t=\t\\begin{cases}\n",
      "P_{i}, & K_{i}<K_{*}\\\\\n",
      "\\frac{1}{2}\\left(P_{i}+C_{i}\\right), & K_{i}=K_{*}\\\\\n",
      "C_{i}, & K_{i}>K_{*}\n",
      "\\end{cases}$$\n",
      "at-the-money strike price is\n",
      "$$K_{*}\t=\t\\max\\left\\{ K_{i}<F\\right\\},$$\n",
      "forward price extracted from put-call parity:\n",
      "$$F\t=\tK_{j}+e^{rT}\\left|C_{j}-P_{j}\\right|,$$\n",
      "with\n",
      "$$j=\\min\\left\\{ \\left|C_{i}-P_{i}\\right|\\right\\},$$\n",
      "and finally $r$ is the constant risk-free short rate appropriate for maturity $T$."
     ]
    },
    {
     "cell_type": "heading",
     "level": 2,
     "metadata": {},
     "source": [
      "Import modules"
     ]
    },
    {
     "cell_type": "code",
     "collapsed": false,
     "input": [
      "import datetime as dt\n",
      "import pandas as ps\n",
      "import numpy as np"
     ],
     "language": "python",
     "metadata": {},
     "outputs": [],
     "prompt_number": 1
    },
    {
     "cell_type": "heading",
     "level": 2,
     "metadata": {},
     "source": [
      "Import yields"
     ]
    },
    {
     "cell_type": "markdown",
     "metadata": {},
     "source": [
      "In the white paper it is assumed that the risk-free rate is 0.38% for both near- and nex-term options. The date chosen for computation is Jan 1, 2009 with options expiring in 9 and 37 days."
     ]
    },
    {
     "cell_type": "code",
     "collapsed": false,
     "input": [
      "ff = open('yields.csv', 'r')\n",
      "for line in ff:\n",
      "    print line,\n",
      "\n",
      "f = lambda x: dt.datetime.strptime(x, '%Y%m%d')\n",
      "yields = ps.read_csv('yields.csv', converters = {'Date' : f})\n",
      "yields = yields.set_index(['Date','Days'])\n",
      "\n",
      "print '\\n', yields"
     ],
     "language": "python",
     "metadata": {},
     "outputs": [
      {
       "output_type": "stream",
       "stream": "stdout",
       "text": [
        "Date,Days,Rate\n",
        "20090101,9,0.38\n",
        "20090101,37,0.38 \n",
        "                 Rate\n",
        "Date       Days      \n",
        "2009-01-01 9     0.38\n",
        "           37    0.38\n"
       ]
      }
     ],
     "prompt_number": 2
    },
    {
     "cell_type": "heading",
     "level": 2,
     "metadata": {},
     "source": [
      "Import options"
     ]
    },
    {
     "cell_type": "code",
     "collapsed": false,
     "input": [
      "ff = open('options.csv', 'r')\n",
      "i = 0\n",
      "while i < 5:\n",
      "    print ff.readline(),\n",
      "    i += 1\n",
      "\n",
      "# Function to parse dates of '20090101' format\n",
      "f = lambda x: dt.datetime.strptime(x, '%Y%m%d')\n",
      "raw_options = ps.read_csv('options.csv', converters = {'Expiration' : f})\n",
      "\n",
      "# Function to convert days to internal timedelta format\n",
      "f_delta = lambda x: dt.timedelta(days = int(x))\n",
      "raw_options['Date'] = raw_options['Expiration'] - raw_options['Days'].map(f_delta)\n",
      "# Convert integer strikes to float! Otherwise it may lead to accumulation of errors.\n",
      "raw_options['Strike'] = raw_options['Strike'].astype(float)\n",
      "\n",
      "print '\\n', raw_options.dtypes\n",
      "print '\\n', raw_options.head()"
     ],
     "language": "python",
     "metadata": {},
     "outputs": [
      {
       "output_type": "stream",
       "stream": "stdout",
       "text": [
        "Expiration,Days,Strike,Call Bid,Call Ask,Put Bid,Put Ask\n",
        "20090110,9,200,717.6,722.8,0,0.05\n",
        "20090110,9,250,667.6,672.9,0,0.05\n",
        "20090110,9,300,617.9,622.9,0,0.05\n",
        "20090110,9,350,567.9,572.9,0,0.05\n",
        "\n",
        "Expiration    datetime64[ns]\n",
        "Days                   int64\n",
        "Strike               float64\n",
        "Call Bid             float64\n",
        "Call Ask             float64\n",
        "Put Bid              float64\n",
        "Put Ask              float64\n",
        "Date          datetime64[ns]\n",
        "dtype: object\n",
        "\n",
        "           Expiration  Days  Strike  Call Bid  Call Ask  Put Bid  Put Ask  \\\n",
        "0 2009-01-10 00:00:00     9     200     717.6     722.8        0     0.05   \n",
        "1 2009-01-10 00:00:00     9     250     667.6     672.9        0     0.05   \n",
        "2 2009-01-10 00:00:00     9     300     617.9     622.9        0     0.05   \n",
        "3 2009-01-10 00:00:00     9     350     567.9     572.9        0     0.05   \n",
        "4 2009-01-10 00:00:00     9     375     542.9     547.9        0     0.10   \n",
        "\n",
        "                 Date  \n",
        "0 2009-01-01 00:00:00  \n",
        "1 2009-01-01 00:00:00  \n",
        "2 2009-01-01 00:00:00  \n",
        "3 2009-01-01 00:00:00  \n",
        "4 2009-01-01 00:00:00  "
       ]
      },
      {
       "output_type": "stream",
       "stream": "stdout",
       "text": [
        "\n"
       ]
      }
     ],
     "prompt_number": 3
    },
    {
     "cell_type": "heading",
     "level": 2,
     "metadata": {},
     "source": [
      "Do some cleaning and indexing"
     ]
    },
    {
     "cell_type": "code",
     "collapsed": false,
     "input": [
      "# Since VIX is computed for the date of option quotations, we do not really need Expiration\n",
      "options = raw_options.set_index(['Date','Days','Strike']).drop('Expiration', axis = 1)\n",
      "\n",
      "# Do some renaming and separate calls from puts\n",
      "calls = options[['Call Bid','Call Ask']].rename(columns = {'Call Bid' : 'Bid', 'Call Ask' : 'Ask'})\n",
      "puts = options[['Put Bid','Put Ask']].rename(columns = {'Put Bid' : 'Bid', 'Put Ask' : 'Ask'})\n",
      "\n",
      "# Add a column indicating the type of the option\n",
      "calls['CP'], puts['CP'] = 'C', 'P'\n",
      "\n",
      "# Merge calls and puts\n",
      "options = ps.concat([calls, puts])\n",
      "\n",
      "# Reindex and sort\n",
      "options = options.reset_index().set_index(['Date','Days','CP','Strike']).sort_index()\n",
      "\n",
      "print options.head()"
     ],
     "language": "python",
     "metadata": {},
     "outputs": [
      {
       "output_type": "stream",
       "stream": "stdout",
       "text": [
        "                             Bid    Ask\n",
        "Date       Days CP Strike              \n",
        "2009-01-01 9    C  200     717.6  722.8\n",
        "                   250     667.6  672.9\n",
        "                   300     617.9  622.9\n",
        "                   350     567.9  572.9\n",
        "                   375     542.9  547.9\n"
       ]
      }
     ],
     "prompt_number": 4
    },
    {
     "cell_type": "heading",
     "level": 2,
     "metadata": {},
     "source": [
      "Compute bid/ask average"
     ]
    },
    {
     "cell_type": "markdown",
     "metadata": {},
     "source": [
      "This step is used further to filter out in-the-money options."
     ]
    },
    {
     "cell_type": "code",
     "collapsed": false,
     "input": [
      "options['Premium'] = (options['Bid'] + options['Ask']) / 2\n",
      "options2 = options[options['Bid'] > 0]['Premium'].unstack('CP')\n",
      "print options2.head()"
     ],
     "language": "python",
     "metadata": {},
     "outputs": [
      {
       "output_type": "stream",
       "stream": "stdout",
       "text": [
        "CP                           C   P\n",
        "Date       Days Strike            \n",
        "2009-01-01 9    200     720.20 NaN\n",
        "                250     670.25 NaN\n",
        "                300     620.40 NaN\n",
        "                350     570.40 NaN\n",
        "                375     545.40 NaN\n"
       ]
      }
     ],
     "prompt_number": 5
    },
    {
     "cell_type": "heading",
     "level": 2,
     "metadata": {},
     "source": [
      "Determine minimum difference"
     ]
    },
    {
     "cell_type": "code",
     "collapsed": false,
     "input": [
      "# Find the absolute difference\n",
      "options2['CPdiff'] = (options2['C'] - options2['P']).abs()\n",
      "# Mark the minimum for each date/term\n",
      "options2['min'] = options2['CPdiff'].groupby(level = ['Date','Days']).transform(lambda x: x == x.min())\n",
      "\n",
      "print options2.ix[(dt.date(2009,1,1),9,910):(dt.date(2009,1,1),9,930)]"
     ],
     "language": "python",
     "metadata": {},
     "outputs": [
      {
       "output_type": "stream",
       "stream": "stdout",
       "text": [
        "CP                          C      P  CPdiff  min\n",
        "Date       Days Strike                           \n",
        "2009-01-01 9    910     42.55  31.70   10.85    0\n",
        "                915     40.05  33.55    6.50    0\n",
        "                920     37.15  36.65    0.50    1\n",
        "                925     33.30  37.70    4.40    0\n",
        "                930     32.45  40.15    7.70    0\n"
       ]
      }
     ],
     "prompt_number": 6
    },
    {
     "cell_type": "heading",
     "level": 2,
     "metadata": {},
     "source": [
      "Compute forward price"
     ]
    },
    {
     "cell_type": "code",
     "collapsed": false,
     "input": [
      "# Leave only at-the-money optons\n",
      "df = options2[options2['min'] == 1].reset_index()\n",
      "# Merge with risk-free rate\n",
      "df = ps.merge(df, yields.reset_index(), how = 'left')\n",
      "\n",
      "# Compute the implied forward\n",
      "df['Forward'] = df['CPdiff'] * np.exp(df['Rate'] * df['Days'] / 36500)\n",
      "df['Forward'] += df['Strike']\n",
      "forward = df.set_index(['Date','Days'])[['Forward']]\n",
      "\n",
      "print forward.head()"
     ],
     "language": "python",
     "metadata": {},
     "outputs": [
      {
       "output_type": "stream",
       "stream": "stdout",
       "text": [
        "                    Forward\n",
        "Date       Days            \n",
        "2009-01-01 9     920.500047\n",
        "           37    921.000385\n"
       ]
      }
     ],
     "prompt_number": 7
    },
    {
     "cell_type": "heading",
     "level": 2,
     "metadata": {},
     "source": [
      "Compute at-the-money strike"
     ]
    },
    {
     "cell_type": "code",
     "collapsed": false,
     "input": [
      "# Merge options with implied forward price\n",
      "left = options2.reset_index().set_index(['Date','Days'])\n",
      "df = ps.merge(left, forward, left_index = True, right_index = True)\n",
      "# Compute at-the-money strike\n",
      "mid_strike = df[df['Strike'] < df['Forward']]['Strike'].groupby(level = ['Date','Days']).max()\n",
      "mid_strike = ps.DataFrame({'Mid Strike' : mid_strike})\n",
      "\n",
      "print mid_strike.head()"
     ],
     "language": "python",
     "metadata": {},
     "outputs": [
      {
       "output_type": "stream",
       "stream": "stdout",
       "text": [
        "                 Mid Strike\n",
        "Date       Days            \n",
        "2009-01-01 9            920\n",
        "           37           920\n"
       ]
      }
     ],
     "prompt_number": 8
    },
    {
     "cell_type": "heading",
     "level": 2,
     "metadata": {},
     "source": [
      "Separate out-of-the-money calls and puts"
     ]
    },
    {
     "cell_type": "code",
     "collapsed": false,
     "input": [
      "# Go back to original data and reindex it\n",
      "left = options.reset_index().set_index(['Date','Days']).drop('Premium', axis = 1)\n",
      "# Merge with at-the-money strike\n",
      "df = ps.merge(left, mid_strike, left_index = True, right_index = True)\n",
      "# Separate out-of-the-money calls and puts\n",
      "P = (df['Strike'] <= df['Mid Strike']) & (df['CP'] == 'P')\n",
      "C = (df['Strike'] >= df['Mid Strike']) & (df['CP'] == 'C')\n",
      "puts, calls = df[P], df[C]\n",
      "\n",
      "print puts.tail()\n",
      "print calls.head()"
     ],
     "language": "python",
     "metadata": {},
     "outputs": [
      {
       "output_type": "stream",
       "stream": "stdout",
       "text": [
        "                CP  Strike   Bid   Ask  Mid Strike\n",
        "Date       Days                                   \n",
        "2009-01-01 37    P     900  50.2  55.4         920\n",
        "           37    P     905  52.2  57.2         920\n",
        "           37    P     910  54.0  59.5         920\n",
        "           37    P     915  56.3  61.5         920\n",
        "           37    P     920  57.8  63.3         920\n",
        "                CP  Strike   Bid   Ask  Mid Strike\n",
        "Date       Days                                   \n",
        "2009-01-01 9     C     920  35.2  39.1         920\n",
        "           9     C     925  31.4  35.2         920\n",
        "           9     C     930  31.0  33.9         920\n",
        "           9     C     935  26.0  31.5         920\n",
        "           9     C     940  26.0  29.0         920\n"
       ]
      }
     ],
     "prompt_number": 9
    },
    {
     "cell_type": "heading",
     "level": 2,
     "metadata": {},
     "source": [
      "Remove all quotes after two consequtive zero bids"
     ]
    },
    {
     "cell_type": "code",
     "collapsed": false,
     "input": [
      "# Indicator of zero bid\n",
      "calls['zero_bid'] = (calls['Bid'] == 0).astype(int)\n",
      "# Accumulate number of zero bids starting at-the-money\n",
      "calls['zero_bid_accum'] = calls.groupby(level = ['Date','Days'])['zero_bid'].cumsum()\n",
      "\n",
      "# Sort puts in reverse order inside date/term\n",
      "puts = puts.groupby(level = ['Date','Days']).sort_index(by = 'Strike', ascending = False)\n",
      "# Indicator of zero bid\n",
      "puts['zero_bid'] = (puts['Bid'] == 0).astype(int)\n",
      "# Accumulate number of zero bids starting at-the-money\n",
      "puts['zero_bid_accum'] = puts.groupby(level = ['Date','Days'])['zero_bid'].cumsum()\n",
      "\n",
      "print calls[(calls['Strike'] >= 1210) & (calls['Strike'] <= 1240)].ix[dt.date(2009,1,1),9]"
     ],
     "language": "python",
     "metadata": {},
     "outputs": [
      {
       "output_type": "stream",
       "stream": "stdout",
       "text": [
        "                CP  Strike   Bid   Ask  Mid Strike  zero_bid  zero_bid_accum\n",
        "Date       Days                                                             \n",
        "2009-01-01 9     C    1210  0.05  0.50         920         0               0\n",
        "           9     C    1215  0.05  0.50         920         0               0\n",
        "           9     C    1220  0.05  1.00         920         0               0\n",
        "           9     C    1225  0.00  1.00         920         1               1\n",
        "           9     C    1230  0.00  1.00         920         1               2\n",
        "           9     C    1235  0.00  0.75         920         1               3\n",
        "           9     C    1240  0.00  0.50         920         1               4\n"
       ]
      }
     ],
     "prompt_number": 10
    },
    {
     "cell_type": "code",
     "collapsed": false,
     "input": [
      "# Merge puts and cals\n",
      "options3 = ps.concat([calls, puts]).reset_index()\n",
      "# Throw away bad stuff\n",
      "options3 = options3[(options3['zero_bid_accum'] < 2) & (options3['Bid'] > 0)]\n",
      "\n",
      "# Compute option premium as bid/ask average\n",
      "options3['Premium'] = (options3['Bid'] + options3['Ask']) / 2\n",
      "options3 = options3.set_index(['Date','Days','CP','Strike'])['Premium'].unstack('CP')\n",
      "\n",
      "print options3.ix[(dt.date(2009,1,1),9,1210):(dt.date(2009,1,1),9,)]"
     ],
     "language": "python",
     "metadata": {},
     "outputs": [
      {
       "output_type": "stream",
       "stream": "stdout",
       "text": [
        "CP                          C   P\n",
        "Date       Days Strike           \n",
        "2009-01-01 9    1210    0.275 NaN\n",
        "                1215    0.275 NaN\n",
        "                1220    0.525 NaN\n"
       ]
      }
     ],
     "prompt_number": 11
    },
    {
     "cell_type": "heading",
     "level": 2,
     "metadata": {},
     "source": [
      "Compute out-of-the-money option price"
     ]
    },
    {
     "cell_type": "code",
     "collapsed": false,
     "input": [
      "# Merge wth at-the-money strike price\n",
      "left = options3.reset_index().set_index(['Date','Days'])\n",
      "df = ps.merge(left, mid_strike, left_index = True, right_index = True)\n",
      "\n",
      "# Conditions to separate out-of-the-money puts and calls\n",
      "condition1 = df['Strike'] < df['Mid Strike']\n",
      "condition2 = df['Strike'] > df['Mid Strike']\n",
      "# At-the-money we have two quotes, so take the average\n",
      "df['Premium'] = (df['P'] + df['C']) / 2\n",
      "# Remove in-the-money options\n",
      "df['Premium'].ix[condition1] = df['P'].ix[condition1]\n",
      "df['Premium'].ix[condition2] = df['C'].ix[condition2]\n",
      "\n",
      "options4 = df[['Strike','Mid Strike','Premium']].copy()\n",
      "\n",
      "print options4[(options4['Strike'] >= 910) & (options4['Strike'] <= 930)].ix[dt.date(2009,1,1),9]"
     ],
     "language": "python",
     "metadata": {},
     "outputs": [
      {
       "output_type": "stream",
       "stream": "stdout",
       "text": [
        "                 Strike  Mid Strike  Premium\n",
        "Date       Days                             \n",
        "2009-01-01 9        910         920    31.70\n",
        "           9        915         920    33.55\n",
        "           9        920         920    36.90\n",
        "           9        925         920    33.30\n",
        "           9        930         920    32.45\n"
       ]
      }
     ],
     "prompt_number": 12
    },
    {
     "cell_type": "heading",
     "level": 2,
     "metadata": {},
     "source": [
      "Compute difference between adjoining strikes"
     ]
    },
    {
     "cell_type": "markdown",
     "metadata": {},
     "source": [
      "Note that the strikes must be floats!!! In Python 3/2=1 and 3./2=1.5!"
     ]
    },
    {
     "cell_type": "code",
     "collapsed": false,
     "input": [
      "def f(group):\n",
      "    new = group.copy()\n",
      "    new.iloc[1:-1] = np.array((group.iloc[2:] - group.iloc[:-2]) / 2)\n",
      "    new.iloc[0] = group.iloc[1] - group.iloc[0]\n",
      "    new.iloc[-1] = group.iloc[-1] - group.iloc[-2]\n",
      "    return new\n",
      "\n",
      "options4['dK'] = options4.groupby(level = ['Date','Days'])['Strike'].apply(f)\n",
      "\n",
      "print options4.head()"
     ],
     "language": "python",
     "metadata": {},
     "outputs": [
      {
       "output_type": "stream",
       "stream": "stdout",
       "text": [
        "                 Strike  Mid Strike  Premium    dK\n",
        "Date       Days                                   \n",
        "2009-01-01 9        400         920    0.125  25.0\n",
        "           9        425         920    0.125  25.0\n",
        "           9        450         920    0.125  22.5\n",
        "           9        470         920    0.150  12.5\n",
        "           9        475         920    0.150   5.0\n"
       ]
      }
     ],
     "prompt_number": 13
    },
    {
     "cell_type": "heading",
     "level": 2,
     "metadata": {},
     "source": [
      "Compute contribution of each strike"
     ]
    },
    {
     "cell_type": "code",
     "collapsed": false,
     "input": [
      "# Merge with risk-free rate\n",
      "contrib = ps.merge(options4, yields, left_index = True, right_index = True).reset_index()\n",
      "\n",
      "contrib['sigma2'] = contrib['dK'] / contrib['Strike'] ** 2\n",
      "contrib['sigma2'] *= contrib['Premium'] * np.exp(contrib['Rate'] * contrib['Days'] / 36500)\n",
      "\n",
      "print contrib.head()"
     ],
     "language": "python",
     "metadata": {},
     "outputs": [
      {
       "output_type": "stream",
       "stream": "stdout",
       "text": [
        "                 Date  Days  Strike  Mid Strike  Premium    dK  Rate    sigma2\n",
        "0 2009-01-01 00:00:00     9     400         920    0.125  25.0  0.38  0.000020\n",
        "1 2009-01-01 00:00:00     9     425         920    0.125  25.0  0.38  0.000017\n",
        "2 2009-01-01 00:00:00     9     450         920    0.125  22.5  0.38  0.000014\n",
        "3 2009-01-01 00:00:00     9     470         920    0.150  12.5  0.38  0.000008\n",
        "4 2009-01-01 00:00:00     9     475         920    0.150   5.0  0.38  0.000003\n"
       ]
      }
     ],
     "prompt_number": 14
    },
    {
     "cell_type": "heading",
     "level": 2,
     "metadata": {},
     "source": [
      "Compute each preiod index"
     ]
    },
    {
     "cell_type": "code",
     "collapsed": false,
     "input": [
      "# Sum up contributions from all strikes\n",
      "sigma2 = contrib.groupby(['Date','Days'])[['sigma2']].sum() * 2\n",
      "\n",
      "# Merge at-the-money strike and implied forward\n",
      "sigma2['Mid Strike'] = mid_strike\n",
      "sigma2['Forward'] = forward\n",
      "\n",
      "# Compute variance for each term\n",
      "sigma2['sigma2'] -= (sigma2['Forward'] / sigma2['Mid Strike'] - 1) ** 2\n",
      "sigma2['sigma2'] /= sigma2.index.get_level_values(1).astype(float) / 365\n",
      "sigma2 = sigma2[['sigma2']]\n",
      "\n",
      "print sigma2.head()"
     ],
     "language": "python",
     "metadata": {},
     "outputs": [
      {
       "output_type": "stream",
       "stream": "stdout",
       "text": [
        "                    sigma2\n",
        "Date       Days           \n",
        "2009-01-01 9     0.4727672\n",
        "           37    0.3668182\n"
       ]
      }
     ],
     "prompt_number": 15
    },
    {
     "cell_type": "heading",
     "level": 2,
     "metadata": {},
     "source": [
      "Compute interpolated index"
     ]
    },
    {
     "cell_type": "code",
     "collapsed": false,
     "input": [
      "# This function determines near- and next-term if there are several maturities in the data\n",
      "def f(group):\n",
      "    days = np.array(group['Days'])\n",
      "    sigma2 = np.array(group['sigma2'])\n",
      "    \n",
      "    if days.min() <= 30:\n",
      "        T1 = days[days <= 30].max()\n",
      "    else:\n",
      "        T1 = days.min()\n",
      "    \n",
      "    T2 = days[days > T1].min()\n",
      "    \n",
      "    sigma_T1 = sigma2[days == T1][0]\n",
      "    sigma_T2 = sigma2[days == T2][0]\n",
      "    \n",
      "    return ps.DataFrame([{'T1' : T1, 'T2' : T2, 'sigma2_T1' : sigma_T1, 'sigma2_T2' : sigma_T2}])\n",
      "    \n",
      "two_sigmas = sigma2.reset_index().groupby('Date').apply(f).groupby(level = 'Date').first()\n",
      "\n",
      "print two_sigmas.head()"
     ],
     "language": "python",
     "metadata": {},
     "outputs": [
      {
       "output_type": "stream",
       "stream": "stdout",
       "text": [
        "            T1  T2  sigma2_T1  sigma2_T2\n",
        "Date                                    \n",
        "2009-01-01   9  37   0.472767   0.366818\n"
       ]
      }
     ],
     "prompt_number": 16
    },
    {
     "cell_type": "heading",
     "level": 2,
     "metadata": {},
     "source": [
      "Interpolate the VIX"
     ]
    },
    {
     "cell_type": "code",
     "collapsed": false,
     "input": [
      "df = two_sigmas.copy()\n",
      "\n",
      "for t in ['T1','T2']:\n",
      "    # Convert to fraction of the year\n",
      "    df['days_' + t] = df[t].astype(float) / 365\n",
      "    # Convert to miutes\n",
      "    df[t] = (df[t] - 1) * 1440. + 510 + 930\n",
      "\n",
      "df['sigma2_T1'] = df['sigma2_T1'] * df['days_T1'] * (df['T2'] - 30. * 1440.)\n",
      "df['sigma2_T2'] = df['sigma2_T2'] * df['days_T2'] * (30. * 1440. - df['T1'])\n",
      "df['VIX'] = ((df['sigma2_T1'] + df['sigma2_T2']) / (df['T2'] - df['T1']) * 365. / 30.) ** .5 * 100\n",
      "\n",
      "VIX = df[['VIX']]\n",
      "\n",
      "print VIX.head()"
     ],
     "language": "python",
     "metadata": {},
     "outputs": [
      {
       "output_type": "stream",
       "stream": "stdout",
       "text": [
        "                  VIX\n",
        "Date                 \n",
        "2009-01-01  61.217999\n"
       ]
      }
     ],
     "prompt_number": 17
    }
   ],
   "metadata": {}
  }
 ]
}