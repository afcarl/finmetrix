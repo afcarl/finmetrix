{
 "metadata": {
  "name": "",
  "signature": "sha256:b20f96187f0022bd760a5159811d23d3a8b37d3bb7e2717df73ee535d2907c36"
 },
 "nbformat": 3,
 "nbformat_minor": 0,
 "worksheets": [
  {
   "cells": [
    {
     "cell_type": "markdown",
     "metadata": {},
     "source": [
      "In this post I will show how to find implied volatilities from Black-Scholes formula using bisection method."
     ]
    },
    {
     "cell_type": "markdown",
     "metadata": {},
     "source": [
      "First of all, import all necessary libraries"
     ]
    },
    {
     "cell_type": "code",
     "collapsed": false,
     "input": [
      "from math import exp, log, sqrt, erf\n",
      "import numpy as np\n",
      "import matplotlib.pylab as plt\n",
      "\n",
      "np.set_printoptions(precision = 3, suppress = True)\n",
      "%matplotlib inline"
     ],
     "language": "python",
     "metadata": {},
     "outputs": [],
     "prompt_number": 1
    },
    {
     "cell_type": "code",
     "collapsed": false,
     "input": [
      "# Standard Normal distribution with math library only\n",
      "def Phi(x):\n",
      "    return .5 * ( 1. + erf(x / sqrt(2)) )"
     ],
     "language": "python",
     "metadata": {},
     "outputs": [],
     "prompt_number": 2
    },
    {
     "cell_type": "markdown",
     "metadata": {},
     "source": [
      "Check how it works"
     ]
    },
    {
     "cell_type": "code",
     "collapsed": false,
     "input": [
      "x = np.linspace(-2, 2, 100)\n",
      "plt.plot(x, [Phi(y) for y in x])\n",
      "plt.show()"
     ],
     "language": "python",
     "metadata": {},
     "outputs": [
      {
       "metadata": {},
       "output_type": "display_data",
       "png": "[encoded data removed]",
       "text": [
        "<matplotlib.figure.Figure at 0x4083d50>"
       ]
      }
     ],
     "prompt_number": 3
    },
    {
     "cell_type": "heading",
     "level": 2,
     "metadata": {},
     "source": [
      "Simple BS formula"
     ]
    },
    {
     "cell_type": "markdown",
     "metadata": {},
     "source": [
      "Black-Scholes formula<p>\n",
      "\\begin{eqnarray*}\n",
      "BS\\left(S,K,\\sigma,r,T\\right) & = & S\\Phi\\left(d_{1}\\right)-e^{-rT}K\\Phi\\left(d_{2}\\right),\\\\\n",
      "d_{1} & = & \\frac{\\log\\left(S/K\\right)+rT}{\\sigma\\sqrt{T}}+\\frac{1}{2}\\sigma\\sqrt{T},\\\\\n",
      "d_{2} & = & d_{1}-\\sigma\\sqrt{T}.\n",
      "\\end{eqnarray*}"
     ]
    },
    {
     "cell_type": "code",
     "collapsed": false,
     "input": [
      "# Black-Scholes Function\n",
      "def BS(S, K, T, r, sig, cp):\n",
      "    d1 = (log(S/K) + r*T) / (sig*sqrt(T)) + .5 * sig*sqrt(T)\n",
      "    d2 = d1 - sig*sqrt(T)\n",
      "    value = 0\n",
      "    if cp == 'C':\n",
      "        value = S*Phi(d1) - K*exp(-r*T)*Phi(d2)\n",
      "    if cp == 'P':\n",
      "        value = K*exp(-r*T)*Phi(-d2) - S*Phi(-d1)\n",
      "    return value"
     ],
     "language": "python",
     "metadata": {},
     "outputs": [],
     "prompt_number": 4
    },
    {
     "cell_type": "markdown",
     "metadata": {},
     "source": [
      "Check how it works"
     ]
    },
    {
     "cell_type": "code",
     "collapsed": false,
     "input": [
      "# S - stock price\n",
      "# K - strike\n",
      "# T - maturity in years\n",
      "# r - log risk free rate annualized\n",
      "# sig - volatililty annualized\n",
      "# cp - call/put flag\n",
      "S, K, T, r, sig, cp = 105., 100., 30./365, 0, .15, 'C'\n",
      "C = BS(S, K, T, r, sig, cp)\n",
      "print 'Call price: %.4f' % C"
     ],
     "language": "python",
     "metadata": {},
     "outputs": [
      {
       "output_type": "stream",
       "stream": "stdout",
       "text": [
        "Call price: 5.2822\n"
       ]
      }
     ],
     "prompt_number": 5
    },
    {
     "cell_type": "markdown",
     "metadata": {},
     "source": [
      "Define function to find implied volatility given option price"
     ]
    },
    {
     "cell_type": "code",
     "collapsed": false,
     "input": [
      "# Function to find BS Implied Vol using Bisection Method\n",
      "def impvol(S, K, T, r, C, cp, tol = 1e-5, fcount = 1e3):\n",
      "    sig, sig_u, sig_d = .2, 1., 1e-3\n",
      "    count = 0\n",
      "    err = BS(S, K, T, r, sig, cp) - C\n",
      "\n",
      "    # repeat until error is sufficiently small or counter hits fcount\n",
      "    while abs(err) > tol and count < fcount:\n",
      "        if err < 0:\n",
      "            sig_d = sig\n",
      "            sig = (sig_u + sig)/2\n",
      "        else:\n",
      "            sig_u = sig\n",
      "            sig = (sig_d + sig)/2\n",
      "        \n",
      "        err = BS(S, K, T, r, sig, cp) - C\n",
      "        count += 1\n",
      "    \n",
      "    # return NA if counter hit fcount\n",
      "    if count == fcount:\n",
      "        return -1\n",
      "    else:\n",
      "        return sig"
     ],
     "language": "python",
     "metadata": {},
     "outputs": [],
     "prompt_number": 6
    },
    {
     "cell_type": "markdown",
     "metadata": {},
     "source": [
      "Check how it works"
     ]
    },
    {
     "cell_type": "code",
     "collapsed": false,
     "input": [
      "# Test code:\n",
      "# S - stock price\n",
      "# K - strike\n",
      "# T - maturity in years\n",
      "# R - risk free rate annualized\n",
      "# C - option price\n",
      "# cp - call/put flag\n",
      "S, K, T, r, C, cp = 105., 100., 30./365, 0, 5.282, 'C'\n",
      "v = impvol(S, K, T, r, C, cp)\n",
      "print 'Implied volatility: %.4f' % v"
     ],
     "language": "python",
     "metadata": {},
     "outputs": [
      {
       "output_type": "stream",
       "stream": "stdout",
       "text": [
        "Implied volatility: 0.1500\n"
       ]
      }
     ],
     "prompt_number": 7
    },
    {
     "cell_type": "heading",
     "level": 2,
     "metadata": {},
     "source": [
      "Standardized BS formula"
     ]
    },
    {
     "cell_type": "markdown",
     "metadata": {},
     "source": [
      "Denote<br>$F=Se^{rT}$ as forward price, and<br>$X=\\log\\left(K/F\\right)$ as log-forward moneyness.<br>\n",
      "Also normalize the option price by the spot. This gives us the following standardized BS formula which depends only on three inputs versus five in the original version.<p>\n",
      "\n",
      "\\begin{eqnarray*}\n",
      "\\tilde{BS}\\left(\\sigma,X,T\\right) & = & \\Phi\\left(d_{1}\\right)-e^{X}\\Phi\\left(d_{2}\\right),\\\\\n",
      "d_{1} & = & -\\frac{X}{\\sigma\\sqrt{T}}+\\frac{1}{2}\\sigma\\sqrt{T},\\\\\n",
      "d_{2} & = & d_{1}-\\sigma\\sqrt{T}.\n",
      "\\end{eqnarray*}"
     ]
    },
    {
     "cell_type": "code",
     "collapsed": false,
     "input": [
      "# Standardized Black-Scholes Function\n",
      "def BSst(X, T, sig, cp):\n",
      "    # X = log(K/S)\n",
      "    d1 = -X / (sig*sqrt(T)) + .5 * sig*sqrt(T)\n",
      "    d2 = d1 - sig*sqrt(T)\n",
      "    value = 0.\n",
      "    if cp == 'C':\n",
      "        value = Phi(d1) - exp(X)*Phi(d2)\n",
      "    if cp == 'P':\n",
      "        value = exp(X)*Phi(-d2) - Phi(-d1)\n",
      "    return value"
     ],
     "language": "python",
     "metadata": {},
     "outputs": [],
     "prompt_number": 8
    },
    {
     "cell_type": "markdown",
     "metadata": {},
     "source": [
      "Check how it works"
     ]
    },
    {
     "cell_type": "code",
     "collapsed": false,
     "input": [
      "S, K, T, r, sig, cp = 105., 100., 30./365, 0, .15, 'C'\n",
      "C1 = BS(S, K, T, r, sig, cp)\n",
      "print 'Call price (simple): %.4f' % C1\n",
      "\n",
      "# X - log-forward moneyness\n",
      "X = np.log(K/S)\n",
      "C2 = BSst(X, T, sig, cp) * S\n",
      "print 'Call price (standardized): %.4f' % C2\n",
      "\n",
      "print 'The result conincides: ', np.isclose(C1, C2)"
     ],
     "language": "python",
     "metadata": {},
     "outputs": [
      {
       "output_type": "stream",
       "stream": "stdout",
       "text": [
        "Call price (simple): 5.2822\n",
        "Call price (standardized): 5.2822\n",
        "The result conincides:  True\n"
       ]
      }
     ],
     "prompt_number": 9
    },
    {
     "cell_type": "markdown",
     "metadata": {},
     "source": [
      "Define function to find implied volatility given standardized option price"
     ]
    },
    {
     "cell_type": "code",
     "collapsed": false,
     "input": [
      "# Function to find BS Implied Vol using Bisection Method\n",
      "def impvol_st(X, T, C, cp, tol = 1e-5, fcount = 1e3):\n",
      "    sig, sig_u, sig_d = .2, 1., 1e-3\n",
      "    count = 0\n",
      "    err = BSst(X, T, sig, cp) - C\n",
      "    \n",
      "    # repeat until error is sufficiently small or counter hits fcount\n",
      "    while abs(err) > tol and count < fcount:\n",
      "        if err < 0:\n",
      "            sig_d = sig\n",
      "            sig = (sig_u + sig)/2\n",
      "        else:\n",
      "            sig_u = sig\n",
      "            sig = (sig_d + sig)/2\n",
      "        \n",
      "        err = BSst(X, T, sig, cp) - C\n",
      "        count += 1\n",
      "    \n",
      "    # return NA if counter hit 1000\n",
      "    if count == fcount:\n",
      "        return -1\n",
      "    else:\n",
      "        return sig"
     ],
     "language": "python",
     "metadata": {},
     "outputs": [],
     "prompt_number": 10
    },
    {
     "cell_type": "markdown",
     "metadata": {},
     "source": [
      "Check how it works"
     ]
    },
    {
     "cell_type": "code",
     "collapsed": false,
     "input": [
      "S, K, T, r, C, cp = 105., 100., 30./365, 0, 5.282, 'C'\n",
      "v1 = impvol(S, K, T, r, C, cp)\n",
      "print 'Implied volatility: %.4f' % v1\n",
      "\n",
      "X = np.log(K/S)\n",
      "v2 = impvol_st(X, T, C/S, cp)\n",
      "print 'Implied volatility (standardized): %.4f' % v2\n",
      "\n",
      "print 'The result conincides: ', np.isclose(v1, v2)"
     ],
     "language": "python",
     "metadata": {},
     "outputs": [
      {
       "output_type": "stream",
       "stream": "stdout",
       "text": [
        "Implied volatility: 0.1500\n",
        "Implied volatility (standardized): 0.1499\n",
        "The result conincides:  False\n"
       ]
      }
     ],
     "prompt_number": 11
    },
    {
     "cell_type": "code",
     "collapsed": false,
     "input": [
      "S, K, T, r, C, cp = 105., 100., 30./365, 0, 5.282, 'C'\n",
      "%timeit v1 = impvol(S, K, T, r, C, cp)\n",
      "print 'Implied volatility: %.4f' % v1\n",
      "\n",
      "X = np.log(K/S)\n",
      "%timeit v2 = impvol_st(X, T, C/S, cp)\n",
      "print 'Implied volatility (standardized): %.4f' % v2\n",
      "\n",
      "print 'The result conincides: ', np.isclose(v1, v2)"
     ],
     "language": "python",
     "metadata": {},
     "outputs": [
      {
       "output_type": "stream",
       "stream": "stdout",
       "text": [
        "10000 loops, best of 3: 71.2 \u00b5s per loop\n",
        "Implied volatility: 0.1500\n",
        "10000 loops, best of 3: 96.1 \u00b5s per loop"
       ]
      },
      {
       "output_type": "stream",
       "stream": "stdout",
       "text": [
        "\n",
        "Implied volatility (standardized): 0.1499\n",
        "The result conincides:  False\n"
       ]
      }
     ],
     "prompt_number": 12
    },
    {
     "cell_type": "heading",
     "level": 2,
     "metadata": {},
     "source": [
      "Vectorize the function"
     ]
    },
    {
     "cell_type": "markdown",
     "metadata": {},
     "source": [
      "The following is all we need to create a vectorized version of the function"
     ]
    },
    {
     "cell_type": "code",
     "collapsed": false,
     "input": [
      "# Use standard Numpy vectorization function\n",
      "# The vector size is determined by the first input\n",
      "vec_impvol_st = np.vectorize(impvol_st)"
     ],
     "language": "python",
     "metadata": {},
     "outputs": [],
     "prompt_number": 13
    },
    {
     "cell_type": "markdown",
     "metadata": {},
     "source": [
      "Check how it works"
     ]
    },
    {
     "cell_type": "code",
     "collapsed": false,
     "input": [
      "# Number of option prices\n",
      "N = 100\n",
      "X = np.ones(N) * X\n",
      "\n",
      "v = vec_impvol_st(X, T, C/S, cp)\n",
      "print 'Implied volatility (standardized): ', v[:10]"
     ],
     "language": "python",
     "metadata": {},
     "outputs": [
      {
       "output_type": "stream",
       "stream": "stdout",
       "text": [
        "Implied volatility (standardized):  [ 0.15  0.15  0.15  0.15  0.15  0.15  0.15  0.15  0.15  0.15]\n"
       ]
      }
     ],
     "prompt_number": 14
    },
    {
     "cell_type": "markdown",
     "metadata": {},
     "source": [
      "Is there any benefit over a loop operation?"
     ]
    },
    {
     "cell_type": "code",
     "collapsed": false,
     "input": [
      "print 'Loop (simple):'\n",
      "%timeit [impvol(S, K, T, r, C, cp) for i in range(N)]\n",
      "print 'Loop (standardized):'\n",
      "%timeit [impvol_st(X[i], T, C/S, cp) for i in range(N)]\n",
      "print 'Numpy vectorize:'\n",
      "%timeit vec_impvol_st(X, T, C/S, cp)"
     ],
     "language": "python",
     "metadata": {},
     "outputs": [
      {
       "output_type": "stream",
       "stream": "stdout",
       "text": [
        "Loop (simple):\n",
        "100 loops, best of 3: 7.09 ms per loop"
       ]
      },
      {
       "output_type": "stream",
       "stream": "stdout",
       "text": [
        "\n",
        "Loop (standardized):\n",
        "100 loops, best of 3: 9.45 ms per loop"
       ]
      },
      {
       "output_type": "stream",
       "stream": "stdout",
       "text": [
        "\n",
        "Numpy vectorize:\n",
        "100 loops, best of 3: 3.6 ms per loop"
       ]
      },
      {
       "output_type": "stream",
       "stream": "stdout",
       "text": [
        "\n"
       ]
      }
     ],
     "prompt_number": 15
    }
   ],
   "metadata": {}
  }
 ]
}